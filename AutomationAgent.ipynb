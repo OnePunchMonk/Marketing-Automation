{
 "cells": [
  {
   "cell_type": "code",
   "execution_count": 23,
   "metadata": {},
   "outputs": [],
   "source": [
    "import pandas as pd\n",
    "import random\n",
    "\n",
    "from transformers import pipeline, AutoTokenizer\n",
    "data = pd.read_csv(\"campaign_data.csv\")"
   ]
  },
  {
   "cell_type": "code",
   "execution_count": 4,
   "metadata": {},
   "outputs": [
    {
     "name": "stdout",
     "output_type": "stream",
     "text": [
      "Collecting google-generativeai\n",
      "  Using cached google_generativeai-0.8.3-py3-none-any.whl (160 kB)\n",
      "Collecting google-ai-generativelanguage==0.6.10\n",
      "  Using cached google_ai_generativelanguage-0.6.10-py3-none-any.whl (760 kB)\n",
      "Requirement already satisfied: google-auth>=2.15.0 in c:\\users\\aggar\\anaconda3\\lib\\site-packages (from google-generativeai) (2.23.0)\n",
      "Requirement already satisfied: pydantic in c:\\users\\aggar\\anaconda3\\lib\\site-packages (from google-generativeai) (2.4.2)\n",
      "Collecting google-api-core\n",
      "  Using cached google_api_core-2.23.0-py3-none-any.whl (156 kB)\n",
      "Requirement already satisfied: tqdm in c:\\users\\aggar\\anaconda3\\lib\\site-packages (from google-generativeai) (4.64.1)\n",
      "Requirement already satisfied: protobuf in c:\\users\\aggar\\anaconda3\\lib\\site-packages (from google-generativeai) (5.29.0)\n",
      "Collecting google-api-python-client\n",
      "  Using cached google_api_python_client-2.154.0-py2.py3-none-any.whl (12.6 MB)\n",
      "Requirement already satisfied: typing-extensions in c:\\users\\aggar\\anaconda3\\lib\\site-packages (from google-generativeai) (4.11.0)\n",
      "Collecting proto-plus<2.0.0dev,>=1.22.3\n",
      "  Using cached proto_plus-1.25.0-py3-none-any.whl (50 kB)\n",
      "Requirement already satisfied: urllib3<2.0 in c:\\users\\aggar\\anaconda3\\lib\\site-packages (from google-auth>=2.15.0->google-generativeai) (1.26.14)\n",
      "Requirement already satisfied: rsa<5,>=3.1.4 in c:\\users\\aggar\\anaconda3\\lib\\site-packages (from google-auth>=2.15.0->google-generativeai) (4.9)\n",
      "Requirement already satisfied: cachetools<6.0,>=2.0.0 in c:\\users\\aggar\\anaconda3\\lib\\site-packages (from google-auth>=2.15.0->google-generativeai) (5.3.1)\n",
      "Requirement already satisfied: pyasn1-modules>=0.2.1 in c:\\users\\aggar\\anaconda3\\lib\\site-packages (from google-auth>=2.15.0->google-generativeai) (0.2.8)\n",
      "Collecting googleapis-common-protos<2.0.dev0,>=1.56.2\n",
      "  Using cached googleapis_common_protos-1.66.0-py2.py3-none-any.whl (221 kB)\n",
      "Requirement already satisfied: requests<3.0.0.dev0,>=2.18.0 in c:\\users\\aggar\\anaconda3\\lib\\site-packages (from google-api-core->google-generativeai) (2.31.0)\n",
      "Requirement already satisfied: uritemplate<5,>=3.0.1 in c:\\users\\aggar\\anaconda3\\lib\\site-packages (from google-api-python-client->google-generativeai) (4.1.1)\n",
      "Collecting httplib2<1.dev0,>=0.19.0\n",
      "  Using cached httplib2-0.22.0-py3-none-any.whl (96 kB)\n",
      "Collecting google-auth-httplib2<1.0.0,>=0.2.0\n",
      "  Using cached google_auth_httplib2-0.2.0-py2.py3-none-any.whl (9.3 kB)\n",
      "Requirement already satisfied: pydantic-core==2.10.1 in c:\\users\\aggar\\anaconda3\\lib\\site-packages (from pydantic->google-generativeai) (2.10.1)\n",
      "Requirement already satisfied: annotated-types>=0.4.0 in c:\\users\\aggar\\anaconda3\\lib\\site-packages (from pydantic->google-generativeai) (0.6.0)\n",
      "Requirement already satisfied: colorama in c:\\users\\aggar\\anaconda3\\lib\\site-packages (from tqdm->google-generativeai) (0.4.6)\n",
      "Collecting grpcio-status<2.0.dev0,>=1.33.2\n",
      "  Using cached grpcio_status-1.68.1-py3-none-any.whl (14 kB)\n",
      "Requirement already satisfied: grpcio<2.0dev,>=1.33.2 in c:\\users\\aggar\\anaconda3\\lib\\site-packages (from google-api-core->google-generativeai) (1.58.0)\n",
      "Requirement already satisfied: pyparsing!=3.0.0,!=3.0.1,!=3.0.2,!=3.0.3,<4,>=2.4.2 in c:\\users\\aggar\\anaconda3\\lib\\site-packages (from httplib2<1.dev0,>=0.19.0->google-api-python-client->google-generativeai) (3.0.9)\n",
      "Requirement already satisfied: pyasn1<0.5.0,>=0.4.6 in c:\\users\\aggar\\anaconda3\\lib\\site-packages (from pyasn1-modules>=0.2.1->google-auth>=2.15.0->google-generativeai) (0.4.8)\n",
      "Requirement already satisfied: idna<4,>=2.5 in c:\\users\\aggar\\anaconda3\\lib\\site-packages (from requests<3.0.0.dev0,>=2.18.0->google-api-core->google-generativeai) (3.4)\n",
      "Requirement already satisfied: charset-normalizer<4,>=2 in c:\\users\\aggar\\anaconda3\\lib\\site-packages (from requests<3.0.0.dev0,>=2.18.0->google-api-core->google-generativeai) (2.0.4)\n",
      "Requirement already satisfied: certifi>=2017.4.17 in c:\\users\\aggar\\anaconda3\\lib\\site-packages (from requests<3.0.0.dev0,>=2.18.0->google-api-core->google-generativeai) (2022.12.7)\n",
      "Collecting grpcio<2.0dev,>=1.33.2\n",
      "  Using cached grpcio-1.68.1-cp310-cp310-win_amd64.whl (4.4 MB)\n",
      "Installing collected packages: proto-plus, httplib2, grpcio, googleapis-common-protos, grpcio-status, google-auth-httplib2, google-api-core, google-api-python-client, google-ai-generativelanguage, google-generativeai\n",
      "  Attempting uninstall: grpcio\n",
      "    Found existing installation: grpcio 1.58.0\n",
      "    Uninstalling grpcio-1.58.0:\n",
      "      Successfully uninstalled grpcio-1.58.0\n",
      "Successfully installed google-ai-generativelanguage-0.6.10 google-api-core-2.23.0 google-api-python-client-2.154.0 google-auth-httplib2-0.2.0 google-generativeai-0.8.3 googleapis-common-protos-1.66.0 grpcio-1.68.1 grpcio-status-1.68.1 httplib2-0.22.0 proto-plus-1.25.0\n",
      "Note: you may need to restart the kernel to use updated packages.\n"
     ]
    },
    {
     "name": "stderr",
     "output_type": "stream",
     "text": [
      "WARNING: Ignoring invalid distribution -rotobuf (c:\\users\\aggar\\anaconda3\\lib\\site-packages)\n",
      "WARNING: Ignoring invalid distribution -rotobuf (c:\\users\\aggar\\anaconda3\\lib\\site-packages)\n",
      "WARNING: Ignoring invalid distribution -rotobuf (c:\\users\\aggar\\anaconda3\\lib\\site-packages)\n",
      "    WARNING: Ignoring invalid distribution -rotobuf (c:\\users\\aggar\\anaconda3\\lib\\site-packages)\n",
      "WARNING: Ignoring invalid distribution -rotobuf (c:\\users\\aggar\\anaconda3\\lib\\site-packages)\n",
      "WARNING: Ignoring invalid distribution -rotobuf (c:\\users\\aggar\\anaconda3\\lib\\site-packages)\n",
      "WARNING: Ignoring invalid distribution -rotobuf (c:\\users\\aggar\\anaconda3\\lib\\site-packages)\n",
      "WARNING: Ignoring invalid distribution -rotobuf (c:\\users\\aggar\\anaconda3\\lib\\site-packages)\n",
      "WARNING: Ignoring invalid distribution -rotobuf (c:\\users\\aggar\\anaconda3\\lib\\site-packages)\n",
      "WARNING: Ignoring invalid distribution -rotobuf (c:\\users\\aggar\\anaconda3\\lib\\site-packages)\n",
      "WARNING: Ignoring invalid distribution -rotobuf (c:\\users\\aggar\\anaconda3\\lib\\site-packages)\n",
      "WARNING: Ignoring invalid distribution -rotobuf (c:\\users\\aggar\\anaconda3\\lib\\site-packages)\n",
      "WARNING: Ignoring invalid distribution -rotobuf (c:\\users\\aggar\\anaconda3\\lib\\site-packages)\n",
      "WARNING: Ignoring invalid distribution -rotobuf (c:\\users\\aggar\\anaconda3\\lib\\site-packages)\n",
      "ERROR: pip's dependency resolver does not currently take into account all the packages that are installed. This behaviour is the source of the following dependency conflicts.\n",
      "tensorflow-intel 2.13.0 requires numpy<=1.24.3,>=1.22, but you have numpy 1.26.4 which is incompatible.\n",
      "tensorflow-intel 2.13.0 requires protobuf!=4.21.0,!=4.21.1,!=4.21.2,!=4.21.3,!=4.21.4,!=4.21.5,<5.0.0dev,>=3.20.3, but you have protobuf 5.29.0 which is incompatible.\n",
      "tensorflow-intel 2.13.0 requires typing-extensions<4.6.0,>=3.6.6, but you have typing-extensions 4.11.0 which is incompatible.\n",
      "WARNING: Ignoring invalid distribution -rotobuf (c:\\users\\aggar\\anaconda3\\lib\\site-packages)\n",
      "WARNING: Ignoring invalid distribution -rotobuf (c:\\users\\aggar\\anaconda3\\lib\\site-packages)\n",
      "WARNING: Ignoring invalid distribution -rotobuf (c:\\users\\aggar\\anaconda3\\lib\\site-packages)\n"
     ]
    }
   ],
   "source": [
    "pip install google-generativeai"
   ]
  },
  {
   "cell_type": "code",
   "execution_count": 5,
   "metadata": {},
   "outputs": [],
   "source": [
    "from dotenv import load_dotenv\n",
    "import os\n",
    "load_dotenv()\n",
    "api_key = os.getenv(\"API_KEY\")\n",
    "\n",
    "import google.generativeai as palm\n",
    "palm.configure(api_key=api_key)\n",
    "\n",
    "model = palm.GenerativeModel('gemini-1.5-flash')\n",
    "\n",
    "def gpt_insights(campaign_text):\n",
    "    try:\n",
    "      response=model.generate_content(\n",
    "                    f\"Analyze the campaign performance described as follows: {campaign_text}. \"\n",
    "        \"Provide insights to improve the campaign, focusing on better ad copy and targeting.\"\n",
    "                           )\n",
    "      extracted_text = response.candidates[0].content.parts[0].text\n",
    "      return extracted_text\n",
    "\n",
    "    except Exception as e:\n",
    "        print(f\"Error generating itinerary: {e}\")\n",
    "        return None\n"
   ]
  },
  {
   "cell_type": "code",
   "execution_count": 7,
   "metadata": {},
   "outputs": [],
   "source": [
    "def gpt_anamoly_insights(campaign_text):\n",
    "    try:\n",
    "      response=model.generate_content(\n",
    "                    f\"Analyze the campaign performance described as follows: {campaign_text}. \"\n",
    "        \"Based on the statistics , look for any anamolies that may be occuring in the advertising campaign.\"\n",
    "                           )\n",
    "      extracted_text = response.candidates[0].content.parts[0].text\n",
    "      return extracted_text\n",
    "\n",
    "    except Exception as e:\n",
    "        print(f\"Error generating itinerary: {e}\")\n",
    "        return None\n"
   ]
  },
  {
   "cell_type": "code",
   "execution_count": 8,
   "metadata": {},
   "outputs": [],
   "source": [
    "def calculate_ctr(clicks, impressions):\n",
    "    return (clicks / impressions) * 100 if impressions > 0 else 0\n",
    "\n",
    "def calculate_roas(revenue, spend):\n",
    "    return revenue / spend if spend > 0 else 0\n",
    "\n",
    "def calculate_cpa(spend, conversions):\n",
    "    return spend / conversions if conversions > 0 else float('inf')\n",
    "\n"
   ]
  },
  {
   "cell_type": "code",
   "execution_count": 24,
   "metadata": {},
   "outputs": [],
   "source": [
    "\n",
    "def analyze_batch(data_batch, target_cpa=15):\n",
    "    decisions = []\n",
    "    for _, row in data_batch.iterrows():\n",
    "        ctr = calculate_ctr(row[\"Clicks\"], row[\"Impressions\"])\n",
    "        roas = calculate_roas(row[\"Revenue\"], row[\"Spend\"])\n",
    "        cpa = calculate_cpa(row[\"Spend\"], row[\"Conversions\"])\n",
    "\n",
    "\n",
    "        print(f\"Campaign {row['Campaign ID']} - CTR: {ctr:.2f}%, ROAS: {roas:.2f}, CPA: {cpa:.2f}\")\n",
    "\n",
    "        # Apply rules for actions\n",
    "        if ctr < 1 or cpa > 3 * target_cpa:\n",
    "            decision = \"Pause\"\n",
    "        elif roas > 4:\n",
    "            decision = \"Increase Budget\"\n",
    "        elif roas < 1.5:\n",
    "            decision = \"Decrease Budget\"\n",
    "        else:\n",
    "            decision = \"No Action\"\n",
    "\n",
    "        campaign_info = (\n",
    "            f\"CTR: {ctr:.2f}%, ROAS: {roas:.2f}, CPA: {cpa:.2f}, Spend: {row['Spend']}, \"\n",
    "            f\"Revenue: {row['Revenue']}, Current Status: {row['Status']}\"\n",
    "        )\n",
    "        insights = gpt_insights(campaign_info)\n",
    "        anamoly = gpt_anamoly_insights(campaign_info)\n",
    "        decisions.append([row[\"Campaign ID\"], decision, insights,anamoly])\n",
    "\n",
    "    return pd.DataFrame(decisions, columns=[\"Campaign ID\", \"Action\", \"LLM Insights\",\"Possible Anamolies\"])\n",
    "\n"
   ]
  },
  {
   "cell_type": "code",
   "execution_count": 25,
   "metadata": {},
   "outputs": [
    {
     "name": "stdout",
     "output_type": "stream",
     "text": [
      "Processing batch 1/4 (3 rows)\n",
      "Campaign campaign_1 - CTR: 55.75%, ROAS: 2.87, CPA: 0.86\n",
      "Campaign campaign_2 - CTR: 66.51%, ROAS: 1.29, CPA: 21.28\n",
      "Campaign campaign_3 - CTR: 28.71%, ROAS: 0.49, CPA: 0.67\n",
      "Processing batch 2/4 (3 rows)\n",
      "Campaign campaign_4 - CTR: 19.30%, ROAS: 2.38, CPA: 3.93\n",
      "Campaign campaign_5 - CTR: 64.72%, ROAS: 2.36, CPA: 3.29\n",
      "Campaign campaign_6 - CTR: 45.42%, ROAS: 0.11, CPA: 1.40\n",
      "Processing batch 3/4 (3 rows)\n",
      "Campaign campaign_7 - CTR: 24.59%, ROAS: 1.77, CPA: 2.98\n",
      "Campaign campaign_8 - CTR: 64.52%, ROAS: 0.15, CPA: 2.08\n",
      "Campaign campaign_9 - CTR: 50.42%, ROAS: 0.36, CPA: 3.21\n",
      "Processing batch 4/4 (1 rows)\n",
      "Campaign campaign_10 - CTR: 87.52%, ROAS: 2.57, CPA: 4.06\n",
      "Batch processing completed! Results saved in 'campaign_report.csv'.\n"
     ]
    }
   ],
   "source": [
    "\n",
    "def analyze_campaigns_in_batches(data, batch_size=3, target_cpa=15):\n",
    "    total_batches = (len(data) + batch_size - 1) // batch_size\n",
    "    all_decisions = []\n",
    "\n",
    "    for batch_num in range(total_batches):\n",
    "        start_idx = batch_num * batch_size\n",
    "        end_idx = min(start_idx + batch_size, len(data))\n",
    "        data_batch = data.iloc[start_idx:end_idx]\n",
    "\n",
    "        print(f\"Processing batch {batch_num + 1}/{total_batches} ({len(data_batch)} rows)\")\n",
    "        batch_decisions = analyze_batch(data_batch, target_cpa)\n",
    "        all_decisions.append(batch_decisions)\n",
    "\n",
    "\n",
    "    return pd.concat(all_decisions, ignore_index=True)\n",
    "\n",
    "batch_size = 3\n",
    "target_cpa = 15\n",
    "report = analyze_campaigns_in_batches(data, batch_size, target_cpa)\n",
    "\n",
    "report.to_csv(\"campaign_report.csv\", index=False)\n",
    "print(\"Batch processing completed! Results saved in 'campaign_report.csv'.\")\n"
   ]
  },
  {
   "cell_type": "code",
   "execution_count": 26,
   "metadata": {},
   "outputs": [
    {
     "data": {
      "image/png": "[encoded data removed]",
      "text/plain": [
       "<Figure size 640x480 with 1 Axes>"
      ]
     },
     "metadata": {},
     "output_type": "display_data"
    }
   ],
   "source": [
    "import matplotlib.pyplot as plt\n",
    "\n",
    "\n",
    "data[\"CTR\"] = data.apply(lambda row: calculate_ctr(row[\"Clicks\"], row[\"Impressions\"]), axis=1)\n",
    "data[\"ROAS\"] = data.apply(lambda row: calculate_roas(row[\"Revenue\"], row[\"Spend\"]), axis=1)\n",
    "\n",
    "plt.scatter(data[\"CTR\"], data[\"ROAS\"], c=\"blue\", alpha=0.7, label=\"Campaigns\")\n",
    "plt.axhline(y=1.5, color=\"red\", linestyle=\"--\", label=\"ROAS Threshold\")\n",
    "plt.axvline(x=1, color=\"green\", linestyle=\"--\", label=\"CTR Threshold\")\n",
    "plt.xlabel(\"CTR (%)\")\n",
    "plt.ylabel(\"ROAS\")\n",
    "plt.title(\"Campaign Performance (CTR vs ROAS)\")\n",
    "plt.legend()\n",
    "plt.show()\n"
   ]
  },
  {
   "cell_type": "code",
   "execution_count": 27,
   "metadata": {},
   "outputs": [],
   "source": [
    "import requests\n",
    "\n",
    "def execute_actions(report):\n",
    "    for _, row in report.iterrows():\n",
    "        campaign_id = row[\"Campaign ID\"]\n",
    "        action = row[\"Action\"]\n",
    "        \n"
   ]
  },
  {
   "cell_type": "code",
   "execution_count": 28,
   "metadata": {},
   "outputs": [
    {
     "name": "stdout",
     "output_type": "stream",
     "text": [
      "   Clicks  Impressions        CTR      ROAS\n",
      "0    1880         3372  55.753262  2.866661\n",
      "1    1007         1514  66.512550  1.288776\n",
      "2    1556         5420  28.708487  0.489445\n",
      "3     646         3347  19.300866  2.377800\n",
      "4    1576         2435  64.722793  2.355119\n"
     ]
    }
   ],
   "source": [
    "def generate_daily_report(report, original_data):\n",
    "    merged = pd.merge(report, original_data, on=\"Campaign ID\")\n",
    "    merged.to_csv(\"daily_summary_report.csv\", index=False)\n",
    "    print(\"Daily Summary Report generated: 'daily_summary_report.csv'\")\n",
    "\n",
    "import sqlite3\n",
    "def store_historical_data(data):\n",
    "    conn = sqlite3.connect(\"campaign_history.db\")\n",
    "    data.to_sql(\"campaigns\", conn, if_exists=\"append\", index=False)\n",
    "    conn.close()\n",
    "    print(\"Historical data stored in SQLite database.\")\n",
    "data[\"CTR\"] = data.apply(lambda row: calculate_ctr(row[\"Clicks\"], row[\"Impressions\"]), axis=1)\n",
    "data[\"ROAS\"] = data.apply(lambda row: calculate_roas(row[\"Revenue\"], row[\"Spend\"]), axis=1)\n",
    "\n",
    "print(data[[\"Clicks\", \"Impressions\", \"CTR\",\"ROAS\"]].head())\n",
    "\n"
   ]
  },
  {
   "cell_type": "code",
   "execution_count": 29,
   "metadata": {},
   "outputs": [
    {
     "name": "stdout",
     "output_type": "stream",
     "text": [
      "Daily Summary Report generated: 'daily_summary_report.csv'\n"
     ]
    }
   ],
   "source": [
    "execute_actions(report)\n",
    "generate_daily_report(report, data)\n"
   ]
  },
  {
   "cell_type": "code",
   "execution_count": 30,
   "metadata": {},
   "outputs": [],
   "source": [
    "def gpt_top_campaign_insights(data):\n",
    "    top_campaigns = data[data[\"ROAS\"] > 2].head(3)  # Top-performing campaigns\n",
    "    print(\"Top Campaigns\",top_campaigns)\n",
    "    insights = []\n",
    "    for _, row in top_campaigns.iterrows():\n",
    "        campaign_info = f\"Ad Copy for Campaign {row['Campaign ID']} with ROAS {row['ROAS']:.2f}.\"\n",
    "        result = gpt_insights(campaign_info)\n",
    "        insights.append({\"Campaign ID\": row[\"Campaign ID\"], \"Insights\": result})\n",
    "    return pd.DataFrame(insights)\n"
   ]
  },
  {
   "cell_type": "code",
   "execution_count": 31,
   "metadata": {},
   "outputs": [
    {
     "name": "stdout",
     "output_type": "stream",
     "text": [
      "Historical data stored in SQLite database.\n"
     ]
    }
   ],
   "source": [
    "def store_historical_data(data):\n",
    "    conn = sqlite3.connect(\"campaign_history.db\")\n",
    "    data.to_sql(\"campaigns\", conn, if_exists=\"append\", index=False)\n",
    "    conn.close()\n",
    "    print(\"Historical data stored in SQLite database.\")\n",
    "store_historical_data(data)\n"
   ]
  },
  {
   "cell_type": "code",
   "execution_count": 32,
   "metadata": {},
   "outputs": [
    {
     "name": "stdout",
     "output_type": "stream",
     "text": [
      "Historical data stored in SQLite database.\n",
      "Top Campaigns   Campaign ID  Impressions  Clicks  Conversions   Spend  Revenue  Status  \\\n",
      "0  campaign_1         3372    1880          128  110.32   316.25  Active   \n",
      "3  campaign_4         3347     646           45  176.76   420.30  Paused   \n",
      "4  campaign_5         2435    1576          147  483.50  1138.70  Paused   \n",
      "\n",
      "         CTR      ROAS  \n",
      "0  55.753262  2.866661  \n",
      "3  19.300866  2.377800  \n",
      "4  64.722793  2.355119  \n",
      "  Campaign ID                                           Insights\n",
      "0  campaign_1  A ROAS (Return on Ad Spend) of 2.87 for campai...\n",
      "1  campaign_4  A ROAS (Return on Ad Spend) of 2.38 for campai...\n",
      "2  campaign_5  A ROAS (Return on Ad Spend) of 2.36 for campai...\n",
      "Top campaign insights saved: 'top_campaign_insights.csv'\n"
     ]
    }
   ],
   "source": [
    "target_cpa = 15\n",
    "store_historical_data(data)\n",
    "top_insights = gpt_top_campaign_insights(data)\n",
    "print(top_insights)\n",
    "top_insights.to_csv(\"top_campaign_insights.csv\", index=False)\n",
    "print(\"Top campaign insights saved: 'top_campaign_insights.csv'\")\n",
    "\n",
    "\n"
   ]
  },
  {
   "cell_type": "code",
   "execution_count": 33,
   "metadata": {},
   "outputs": [],
   "source": [
    "import plotly.express as px\n",
    "\n",
    "\n",
    "# Plot ROAS Trends\n",
    "def visualize_roas_trends(data):\n",
    "    fig = px.line(data, x=\"Campaign ID\", y=\"ROAS\", title=\"ROAS Trends by Campaign\")\n",
    "    fig.update_traces(marker=dict(size=12))\n",
    "    fig.show()\n",
    "\n",
    "\n",
    "import plotly.express as px\n",
    "\n",
    "STATUS_COLOR_MAP = {\n",
    "    \"Active\": \"blue\",\n",
    "    \"Paused\": \"red\",\n",
    "    \"Completed\": \"green\",\n",
    "    \"Draft\": \"orange\"  \n",
    "}\n",
    "\n",
    "# Visualize CTR and ROAS with better color differentiation\n",
    "def visualize_ctr_vs_roas(data):\n",
    "    fig = px.scatter(\n",
    "        data,\n",
    "        x=\"CTR\",\n",
    "        y=\"ROAS\",\n",
    "        color=\"Status\",\n",
    "        title=\"CTR vs ROAS for Campaigns\",\n",
    "        labels={\"CTR\": \"Click-Through Rate\", \"ROAS\": \"Return on Ad Spend\"},\n",
    "        color_discrete_map=STATUS_COLOR_MAP  \n",
    "    )\n",
    "    fig.show()\n",
    "\n"
   ]
  },
  {
   "cell_type": "code",
   "execution_count": 34,
   "metadata": {},
   "outputs": [
    {
     "data": {
      "application/vnd.plotly.v1+json": {
       "config": {
        "plotlyServerURL": "https://plot.ly"
       },
       "data": [
        {
         "hovertemplate": "Campaign ID=%{x}<br>ROAS=%{y}<extra></extra>",
         "legendgroup": "",
         "line": {
          "color": "#636efa",
          "dash": "solid"
         },
         "marker": {
          "size": 12,
          "symbol": "circle"
         },
         "mode": "lines",
         "name": "",
         "orientation": "v",
         "showlegend": false,
         "type": "scatter",
         "x": [
          "campaign_1",
          "campaign_2",
          "campaign_3",
          "campaign_4",
          "campaign_5",
          "campaign_6",
          "campaign_7",
          "campaign_8",
          "campaign_9",
          "campaign_10"
         ],
         "xaxis": "x",
         "y": [
          2.8666606236403194,
          1.2887760857304005,
          0.4894447223611806,
          2.377800407331976,
          2.35511892450879,
          0.10850286906624934,
          1.7709238617041376,
          0.14895519960972436,
          0.3606281292671826,
          2.5736929736929737
         ],
         "yaxis": "y"
        }
       ],
       "layout": {
        "legend": {
         "tracegroupgap": 0
        },
        "template": {
         "data": {
          "bar": [
           {
            "error_x": {
             "color": "#2a3f5f"
            },
            "error_y": {
             "color": "#2a3f5f"
            },
            "marker": {
             "line": {
              "color": "#E5ECF6",
              "width": 0.5
             },
             "pattern": {
              "fillmode": "overlay",
              "size": 10,
              "solidity": 0.2
             }
            },
            "type": "bar"
           }
          ],
          "barpolar": [
           {
            "marker": {
             "line": {
              "color": "#E5ECF6",
              "width": 0.5
             },
             "pattern": {
              "fillmode": "overlay",
              "size": 10,
              "solidity": 0.2
             }
            },
            "type": "barpolar"
           }
          ],
          "carpet": [
           {
            "aaxis": {
             "endlinecolor": "#2a3f5f",
             "gridcolor": "white",
             "linecolor": "white",
             "minorgridcolor": "white",
             "startlinecolor": "#2a3f5f"
            },
            "baxis": {
             "endlinecolor": "#2a3f5f",
             "gridcolor": "white",
             "linecolor": "white",
             "minorgridcolor": "white",
             "startlinecolor": "#2a3f5f"
            },
            "type": "carpet"
           }
          ],
          "choropleth": [
           {
            "colorbar": {
             "outlinewidth": 0,
             "ticks": ""
            },
            "type": "choropleth"
           }
          ],
          "contour": [
           {
            "colorbar": {
             "outlinewidth": 0,
             "ticks": ""
            },
            "colorscale": [
             [
              0,
              "#0d0887"
             ],
             [
              0.1111111111111111,
              "#46039f"
             ],
             [
              0.2222222222222222,
              "#7201a8"
             ],
             [
              0.3333333333333333,
              "#9c179e"
             ],
             [
              0.4444444444444444,
              "#bd3786"
             ],
             [
              0.5555555555555556,
              "#d8576b"
             ],
             [
              0.6666666666666666,
              "#ed7953"
             ],
             [
              0.7777777777777778,
              "#fb9f3a"
             ],
             [
              0.8888888888888888,
              "#fdca26"
             ],
             [
              1,
              "#f0f921"
             ]
            ],
            "type": "contour"
           }
          ],
          "contourcarpet": [
           {
            "colorbar": {
             "outlinewidth": 0,
             "ticks": ""
            },
            "type": "contourcarpet"
           }
          ],
          "heatmap": [
           {
            "colorbar": {
             "outlinewidth": 0,
             "ticks": ""
            },
            "colorscale": [
             [
              0,
              "#0d0887"
             ],
             [
              0.1111111111111111,
              "#46039f"
             ],
             [
              0.2222222222222222,
              "#7201a8"
             ],
             [
              0.3333333333333333,
              "#9c179e"
             ],
             [
              0.4444444444444444,
              "#bd3786"
             ],
             [
              0.5555555555555556,
              "#d8576b"
             ],
             [
              0.6666666666666666,
              "#ed7953"
             ],
             [
              0.7777777777777778,
              "#fb9f3a"
             ],
             [
              0.8888888888888888,
              "#fdca26"
             ],
             [
              1,
              "#f0f921"
             ]
            ],
            "type": "heatmap"
           }
          ],
          "heatmapgl": [
           {
            "colorbar": {
             "outlinewidth": 0,
             "ticks": ""
            },
            "colorscale": [
             [
              0,
              "#0d0887"
             ],
             [
              0.1111111111111111,
              "#46039f"
             ],
             [
              0.2222222222222222,
              "#7201a8"
             ],
             [
              0.3333333333333333,
              "#9c179e"
             ],
             [
              0.4444444444444444,
              "#bd3786"
             ],
             [
              0.5555555555555556,
              "#d8576b"
             ],
             [
              0.6666666666666666,
              "#ed7953"
             ],
             [
              0.7777777777777778,
              "#fb9f3a"
             ],
             [
              0.8888888888888888,
              "#fdca26"
             ],
             [
              1,
              "#f0f921"
             ]
            ],
            "type": "heatmapgl"
           }
          ],
          "histogram": [
           {
            "marker": {
             "pattern": {
              "fillmode": "overlay",
              "size": 10,
              "solidity": 0.2
             }
            },
            "type": "histogram"
           }
          ],
          "histogram2d": [
           {
            "colorbar": {
             "outlinewidth": 0,
             "ticks": ""
            },
            "colorscale": [
             [
              0,
              "#0d0887"
             ],
             [
              0.1111111111111111,
              "#46039f"
             ],
             [
              0.2222222222222222,
              "#7201a8"
             ],
             [
              0.3333333333333333,
              "#9c179e"
             ],
             [
              0.4444444444444444,
              "#bd3786"
             ],
             [
              0.5555555555555556,
              "#d8576b"
             ],
             [
              0.6666666666666666,
              "#ed7953"
             ],
             [
              0.7777777777777778,
              "#fb9f3a"
             ],
             [
              0.8888888888888888,
              "#fdca26"
             ],
             [
              1,
              "#f0f921"
             ]
            ],
            "type": "histogram2d"
           }
          ],
          "histogram2dcontour": [
           {
            "colorbar": {
             "outlinewidth": 0,
             "ticks": ""
            },
            "colorscale": [
             [
              0,
              "#0d0887"
             ],
             [
              0.1111111111111111,
              "#46039f"
             ],
             [
              0.2222222222222222,
              "#7201a8"
             ],
             [
              0.3333333333333333,
              "#9c179e"
             ],
             [
              0.4444444444444444,
              "#bd3786"
             ],
             [
              0.5555555555555556,
              "#d8576b"
             ],
             [
              0.6666666666666666,
              "#ed7953"
             ],
             [
              0.7777777777777778,
              "#fb9f3a"
             ],
             [
              0.8888888888888888,
              "#fdca26"
             ],
             [
              1,
              "#f0f921"
             ]
            ],
            "type": "histogram2dcontour"
           }
          ],
          "mesh3d": [
           {
            "colorbar": {
             "outlinewidth": 0,
             "ticks": ""
            },
            "type": "mesh3d"
           }
          ],
          "parcoords": [
           {
            "line": {
             "colorbar": {
              "outlinewidth": 0,
              "ticks": ""
             }
            },
            "type": "parcoords"
           }
          ],
          "pie": [
           {
            "automargin": true,
            "type": "pie"
           }
          ],
          "scatter": [
           {
            "fillpattern": {
             "fillmode": "overlay",
             "size": 10,
             "solidity": 0.2
            },
            "type": "scatter"
           }
          ],
          "scatter3d": [
           {
            "line": {
             "colorbar": {
              "outlinewidth": 0,
              "ticks": ""
             }
            },
            "marker": {
             "colorbar": {
              "outlinewidth": 0,
              "ticks": ""
             }
            },
            "type": "scatter3d"
           }
          ],
          "scattercarpet": [
           {
            "marker": {
             "colorbar": {
              "outlinewidth": 0,
              "ticks": ""
             }
            },
            "type": "scattercarpet"
           }
          ],
          "scattergeo": [
           {
            "marker": {
             "colorbar": {
              "outlinewidth": 0,
              "ticks": ""
             }
            },
            "type": "scattergeo"
           }
          ],
          "scattergl": [
           {
            "marker": {
             "colorbar": {
              "outlinewidth": 0,
              "ticks": ""
             }
            },
            "type": "scattergl"
           }
          ],
          "scattermapbox": [
           {
            "marker": {
             "colorbar": {
              "outlinewidth": 0,
              "ticks": ""
             }
            },
            "type": "scattermapbox"
           }
          ],
          "scatterpolar": [
           {
            "marker": {
             "colorbar": {
              "outlinewidth": 0,
              "ticks": ""
             }
            },
            "type": "scatterpolar"
           }
          ],
          "scatterpolargl": [
           {
            "marker": {
             "colorbar": {
              "outlinewidth": 0,
              "ticks": ""
             }
            },
            "type": "scatterpolargl"
           }
          ],
          "scatterternary": [
           {
            "marker": {
             "colorbar": {
              "outlinewidth": 0,
              "ticks": ""
             }
            },
            "type": "scatterternary"
           }
          ],
          "surface": [
           {
            "colorbar": {
             "outlinewidth": 0,
             "ticks": ""
            },
            "colorscale": [
             [
              0,
              "#0d0887"
             ],
             [
              0.1111111111111111,
              "#46039f"
             ],
             [
              0.2222222222222222,
              "#7201a8"
             ],
             [
              0.3333333333333333,
              "#9c179e"
             ],
             [
              0.4444444444444444,
              "#bd3786"
             ],
             [
              0.5555555555555556,
              "#d8576b"
             ],
             [
              0.6666666666666666,
              "#ed7953"
             ],
             [
              0.7777777777777778,
              "#fb9f3a"
             ],
             [
              0.8888888888888888,
              "#fdca26"
             ],
             [
              1,
              "#f0f921"
             ]
            ],
            "type": "surface"
           }
          ],
          "table": [
           {
            "cells": {
             "fill": {
              "color": "#EBF0F8"
             },
             "line": {
              "color": "white"
             }
            },
            "header": {
             "fill": {
              "color": "#C8D4E3"
             },
             "line": {
              "color": "white"
             }
            },
            "type": "table"
           }
          ]
         },
         "layout": {
          "annotationdefaults": {
           "arrowcolor": "#2a3f5f",
           "arrowhead": 0,
           "arrowwidth": 1
          },
          "autotypenumbers": "strict",
          "coloraxis": {
           "colorbar": {
            "outlinewidth": 0,
            "ticks": ""
           }
          },
          "colorscale": {
           "diverging": [
            [
             0,
             "#8e0152"
            ],
            [
             0.1,
             "#c51b7d"
            ],
            [
             0.2,
             "#de77ae"
            ],
            [
             0.3,
             "#f1b6da"
            ],
            [
             0.4,
             "#fde0ef"
            ],
            [
             0.5,
             "#f7f7f7"
            ],
            [
             0.6,
             "#e6f5d0"
            ],
            [
             0.7,
             "#b8e186"
            ],
            [
             0.8,
             "#7fbc41"
            ],
            [
             0.9,
             "#4d9221"
            ],
            [
             1,
             "#276419"
            ]
           ],
           "sequential": [
            [
             0,
             "#0d0887"
            ],
            [
             0.1111111111111111,
             "#46039f"
            ],
            [
             0.2222222222222222,
             "#7201a8"
            ],
            [
             0.3333333333333333,
             "#9c179e"
            ],
            [
             0.4444444444444444,
             "#bd3786"
            ],
            [
             0.5555555555555556,
             "#d8576b"
            ],
            [
             0.6666666666666666,
             "#ed7953"
            ],
            [
             0.7777777777777778,
             "#fb9f3a"
            ],
            [
             0.8888888888888888,
             "#fdca26"
            ],
            [
             1,
             "#f0f921"
            ]
           ],
           "sequentialminus": [
            [
             0,
             "#0d0887"
            ],
            [
             0.1111111111111111,
             "#46039f"
            ],
            [
             0.2222222222222222,
             "#7201a8"
            ],
            [
             0.3333333333333333,
             "#9c179e"
            ],
            [
             0.4444444444444444,
             "#bd3786"
            ],
            [
             0.5555555555555556,
             "#d8576b"
            ],
            [
             0.6666666666666666,
             "#ed7953"
            ],
            [
             0.7777777777777778,
             "#fb9f3a"
            ],
            [
             0.8888888888888888,
             "#fdca26"
            ],
            [
             1,
             "#f0f921"
            ]
           ]
          },
          "colorway": [
           "#636efa",
           "#EF553B",
           "#00cc96",
           "#ab63fa",
           "#FFA15A",
           "#19d3f3",
           "#FF6692",
           "#B6E880",
           "#FF97FF",
           "#FECB52"
          ],
          "font": {
           "color": "#2a3f5f"
          },
          "geo": {
           "bgcolor": "white",
           "lakecolor": "white",
           "landcolor": "#E5ECF6",
           "showlakes": true,
           "showland": true,
           "subunitcolor": "white"
          },
          "hoverlabel": {
           "align": "left"
          },
          "hovermode": "closest",
          "mapbox": {
           "style": "light"
          },
          "paper_bgcolor": "white",
          "plot_bgcolor": "#E5ECF6",
          "polar": {
           "angularaxis": {
            "gridcolor": "white",
            "linecolor": "white",
            "ticks": ""
           },
           "bgcolor": "#E5ECF6",
           "radialaxis": {
            "gridcolor": "white",
            "linecolor": "white",
            "ticks": ""
           }
          },
          "scene": {
           "xaxis": {
            "backgroundcolor": "#E5ECF6",
            "gridcolor": "white",
            "gridwidth": 2,
            "linecolor": "white",
            "showbackground": true,
            "ticks": "",
            "zerolinecolor": "white"
           },
           "yaxis": {
            "backgroundcolor": "#E5ECF6",
            "gridcolor": "white",
            "gridwidth": 2,
            "linecolor": "white",
            "showbackground": true,
            "ticks": "",
            "zerolinecolor": "white"
           },
           "zaxis": {
            "backgroundcolor": "#E5ECF6",
            "gridcolor": "white",
            "gridwidth": 2,
            "linecolor": "white",
            "showbackground": true,
            "ticks": "",
            "zerolinecolor": "white"
           }
          },
          "shapedefaults": {
           "line": {
            "color": "#2a3f5f"
           }
          },
          "ternary": {
           "aaxis": {
            "gridcolor": "white",
            "linecolor": "white",
            "ticks": ""
           },
           "baxis": {
            "gridcolor": "white",
            "linecolor": "white",
            "ticks": ""
           },
           "bgcolor": "#E5ECF6",
           "caxis": {
            "gridcolor": "white",
            "linecolor": "white",
            "ticks": ""
           }
          },
          "title": {
           "x": 0.05
          },
          "xaxis": {
           "automargin": true,
           "gridcolor": "white",
           "linecolor": "white",
           "ticks": "",
           "title": {
            "standoff": 15
           },
           "zerolinecolor": "white",
           "zerolinewidth": 2
          },
          "yaxis": {
           "automargin": true,
           "gridcolor": "white",
           "linecolor": "white",
           "ticks": "",
           "title": {
            "standoff": 15
           },
           "zerolinecolor": "white",
           "zerolinewidth": 2
          }
         }
        },
        "title": {
         "text": "ROAS Trends by Campaign"
        },
        "xaxis": {
         "anchor": "y",
         "domain": [
          0,
          1
         ],
         "title": {
          "text": "Campaign ID"
         }
        },
        "yaxis": {
         "anchor": "x",
         "domain": [
          0,
          1
         ],
         "title": {
          "text": "ROAS"
         }
        }
       }
      }
     },
     "metadata": {},
     "output_type": "display_data"
    }
   ],
   "source": [
    "\n",
    "visualize_roas_trends(data)"
   ]
  },
  {
   "cell_type": "code",
   "execution_count": 35,
   "metadata": {},
   "outputs": [
    {
     "data": {
      "application/vnd.plotly.v1+json": {
       "config": {
        "plotlyServerURL": "https://plot.ly"
       },
       "data": [
        {
         "hovertemplate": "Status=Active<br>Click-Through Rate=%{x}<br>Return on Ad Spend=%{y}<extra></extra>",
         "legendgroup": "Active",
         "marker": {
          "color": "blue",
          "symbol": "circle"
         },
         "mode": "markers",
         "name": "Active",
         "orientation": "v",
         "showlegend": true,
         "type": "scatter",
         "x": [
          55.753262158956105,
          45.42171234331846,
          50.42151746286632
         ],
         "xaxis": "x",
         "y": [
          2.8666606236403194,
          0.10850286906624934,
          0.3606281292671826
         ],
         "yaxis": "y"
        },
        {
         "hovertemplate": "Status=Paused<br>Click-Through Rate=%{x}<br>Return on Ad Spend=%{y}<extra></extra>",
         "legendgroup": "Paused",
         "marker": {
          "color": "red",
          "symbol": "circle"
         },
         "mode": "markers",
         "name": "Paused",
         "orientation": "v",
         "showlegend": true,
         "type": "scatter",
         "x": [
          66.51254953764861,
          28.70848708487085,
          19.300866447564985,
          64.72279260780287,
          24.592561638111157,
          64.52296819787986,
          87.5180583646345
         ],
         "xaxis": "x",
         "y": [
          1.2887760857304005,
          0.4894447223611806,
          2.377800407331976,
          2.35511892450879,
          1.7709238617041376,
          0.14895519960972436,
          2.5736929736929737
         ],
         "yaxis": "y"
        }
       ],
       "layout": {
        "legend": {
         "title": {
          "text": "Status"
         },
         "tracegroupgap": 0
        },
        "template": {
         "data": {
          "bar": [
           {
            "error_x": {
             "color": "#2a3f5f"
            },
            "error_y": {
             "color": "#2a3f5f"
            },
            "marker": {
             "line": {
              "color": "#E5ECF6",
              "width": 0.5
             },
             "pattern": {
              "fillmode": "overlay",
              "size": 10,
              "solidity": 0.2
             }
            },
            "type": "bar"
           }
          ],
          "barpolar": [
           {
            "marker": {
             "line": {
              "color": "#E5ECF6",
              "width": 0.5
             },
             "pattern": {
              "fillmode": "overlay",
              "size": 10,
              "solidity": 0.2
             }
            },
            "type": "barpolar"
           }
          ],
          "carpet": [
           {
            "aaxis": {
             "endlinecolor": "#2a3f5f",
             "gridcolor": "white",
             "linecolor": "white",
             "minorgridcolor": "white",
             "startlinecolor": "#2a3f5f"
            },
            "baxis": {
             "endlinecolor": "#2a3f5f",
             "gridcolor": "white",
             "linecolor": "white",
             "minorgridcolor": "white",
             "startlinecolor": "#2a3f5f"
            },
            "type": "carpet"
           }
          ],
          "choropleth": [
           {
            "colorbar": {
             "outlinewidth": 0,
             "ticks": ""
            },
            "type": "choropleth"
           }
          ],
          "contour": [
           {
            "colorbar": {
             "outlinewidth": 0,
             "ticks": ""
            },
            "colorscale": [
             [
              0,
              "#0d0887"
             ],
             [
              0.1111111111111111,
              "#46039f"
             ],
             [
              0.2222222222222222,
              "#7201a8"
             ],
             [
              0.3333333333333333,
              "#9c179e"
             ],
             [
              0.4444444444444444,
              "#bd3786"
             ],
             [
              0.5555555555555556,
              "#d8576b"
             ],
             [
              0.6666666666666666,
              "#ed7953"
             ],
             [
              0.7777777777777778,
              "#fb9f3a"
             ],
             [
              0.8888888888888888,
              "#fdca26"
             ],
             [
              1,
              "#f0f921"
             ]
            ],
            "type": "contour"
           }
          ],
          "contourcarpet": [
           {
            "colorbar": {
             "outlinewidth": 0,
             "ticks": ""
            },
            "type": "contourcarpet"
           }
          ],
          "heatmap": [
           {
            "colorbar": {
             "outlinewidth": 0,
             "ticks": ""
            },
            "colorscale": [
             [
              0,
              "#0d0887"
             ],
             [
              0.1111111111111111,
              "#46039f"
             ],
             [
              0.2222222222222222,
              "#7201a8"
             ],
             [
              0.3333333333333333,
              "#9c179e"
             ],
             [
              0.4444444444444444,
              "#bd3786"
             ],
             [
              0.5555555555555556,
              "#d8576b"
             ],
             [
              0.6666666666666666,
              "#ed7953"
             ],
             [
              0.7777777777777778,
              "#fb9f3a"
             ],
             [
              0.8888888888888888,
              "#fdca26"
             ],
             [
              1,
              "#f0f921"
             ]
            ],
            "type": "heatmap"
           }
          ],
          "heatmapgl": [
           {
            "colorbar": {
             "outlinewidth": 0,
             "ticks": ""
            },
            "colorscale": [
             [
              0,
              "#0d0887"
             ],
             [
              0.1111111111111111,
              "#46039f"
             ],
             [
              0.2222222222222222,
              "#7201a8"
             ],
             [
              0.3333333333333333,
              "#9c179e"
             ],
             [
              0.4444444444444444,
              "#bd3786"
             ],
             [
              0.5555555555555556,
              "#d8576b"
             ],
             [
              0.6666666666666666,
              "#ed7953"
             ],
             [
              0.7777777777777778,
              "#fb9f3a"
             ],
             [
              0.8888888888888888,
              "#fdca26"
             ],
             [
              1,
              "#f0f921"
             ]
            ],
            "type": "heatmapgl"
           }
          ],
          "histogram": [
           {
            "marker": {
             "pattern": {
              "fillmode": "overlay",
              "size": 10,
              "solidity": 0.2
             }
            },
            "type": "histogram"
           }
          ],
          "histogram2d": [
           {
            "colorbar": {
             "outlinewidth": 0,
             "ticks": ""
            },
            "colorscale": [
             [
              0,
              "#0d0887"
             ],
             [
              0.1111111111111111,
              "#46039f"
             ],
             [
              0.2222222222222222,
              "#7201a8"
             ],
             [
              0.3333333333333333,
              "#9c179e"
             ],
             [
              0.4444444444444444,
              "#bd3786"
             ],
             [
              0.5555555555555556,
              "#d8576b"
             ],
             [
              0.6666666666666666,
              "#ed7953"
             ],
             [
              0.7777777777777778,
              "#fb9f3a"
             ],
             [
              0.8888888888888888,
              "#fdca26"
             ],
             [
              1,
              "#f0f921"
             ]
            ],
            "type": "histogram2d"
           }
          ],
          "histogram2dcontour": [
           {
            "colorbar": {
             "outlinewidth": 0,
             "ticks": ""
            },
            "colorscale": [
             [
              0,
              "#0d0887"
             ],
             [
              0.1111111111111111,
              "#46039f"
             ],
             [
              0.2222222222222222,
              "#7201a8"
             ],
             [
              0.3333333333333333,
              "#9c179e"
             ],
             [
              0.4444444444444444,
              "#bd3786"
             ],
             [
              0.5555555555555556,
              "#d8576b"
             ],
             [
              0.6666666666666666,
              "#ed7953"
             ],
             [
              0.7777777777777778,
              "#fb9f3a"
             ],
             [
              0.8888888888888888,
              "#fdca26"
             ],
             [
              1,
              "#f0f921"
             ]
            ],
            "type": "histogram2dcontour"
           }
          ],
          "mesh3d": [
           {
            "colorbar": {
             "outlinewidth": 0,
             "ticks": ""
            },
            "type": "mesh3d"
           }
          ],
          "parcoords": [
           {
            "line": {
             "colorbar": {
              "outlinewidth": 0,
              "ticks": ""
             }
            },
            "type": "parcoords"
           }
          ],
          "pie": [
           {
            "automargin": true,
            "type": "pie"
           }
          ],
          "scatter": [
           {
            "fillpattern": {
             "fillmode": "overlay",
             "size": 10,
             "solidity": 0.2
            },
            "type": "scatter"
           }
          ],
          "scatter3d": [
           {
            "line": {
             "colorbar": {
              "outlinewidth": 0,
              "ticks": ""
             }
            },
            "marker": {
             "colorbar": {
              "outlinewidth": 0,
              "ticks": ""
             }
            },
            "type": "scatter3d"
           }
          ],
          "scattercarpet": [
           {
            "marker": {
             "colorbar": {
              "outlinewidth": 0,
              "ticks": ""
             }
            },
            "type": "scattercarpet"
           }
          ],
          "scattergeo": [
           {
            "marker": {
             "colorbar": {
              "outlinewidth": 0,
              "ticks": ""
             }
            },
            "type": "scattergeo"
           }
          ],
          "scattergl": [
           {
            "marker": {
             "colorbar": {
              "outlinewidth": 0,
              "ticks": ""
             }
            },
            "type": "scattergl"
           }
          ],
          "scattermapbox": [
           {
            "marker": {
             "colorbar": {
              "outlinewidth": 0,
              "ticks": ""
             }
            },
            "type": "scattermapbox"
           }
          ],
          "scatterpolar": [
           {
            "marker": {
             "colorbar": {
              "outlinewidth": 0,
              "ticks": ""
             }
            },
            "type": "scatterpolar"
           }
          ],
          "scatterpolargl": [
           {
            "marker": {
             "colorbar": {
              "outlinewidth": 0,
              "ticks": ""
             }
            },
            "type": "scatterpolargl"
           }
          ],
          "scatterternary": [
           {
            "marker": {
             "colorbar": {
              "outlinewidth": 0,
              "ticks": ""
             }
            },
            "type": "scatterternary"
           }
          ],
          "surface": [
           {
            "colorbar": {
             "outlinewidth": 0,
             "ticks": ""
            },
            "colorscale": [
             [
              0,
              "#0d0887"
             ],
             [
              0.1111111111111111,
              "#46039f"
             ],
             [
              0.2222222222222222,
              "#7201a8"
             ],
             [
              0.3333333333333333,
              "#9c179e"
             ],
             [
              0.4444444444444444,
              "#bd3786"
             ],
             [
              0.5555555555555556,
              "#d8576b"
             ],
             [
              0.6666666666666666,
              "#ed7953"
             ],
             [
              0.7777777777777778,
              "#fb9f3a"
             ],
             [
              0.8888888888888888,
              "#fdca26"
             ],
             [
              1,
              "#f0f921"
             ]
            ],
            "type": "surface"
           }
          ],
          "table": [
           {
            "cells": {
             "fill": {
              "color": "#EBF0F8"
             },
             "line": {
              "color": "white"
             }
            },
            "header": {
             "fill": {
              "color": "#C8D4E3"
             },
             "line": {
              "color": "white"
             }
            },
            "type": "table"
           }
          ]
         },
         "layout": {
          "annotationdefaults": {
           "arrowcolor": "#2a3f5f",
           "arrowhead": 0,
           "arrowwidth": 1
          },
          "autotypenumbers": "strict",
          "coloraxis": {
           "colorbar": {
            "outlinewidth": 0,
            "ticks": ""
           }
          },
          "colorscale": {
           "diverging": [
            [
             0,
             "#8e0152"
            ],
            [
             0.1,
             "#c51b7d"
            ],
            [
             0.2,
             "#de77ae"
            ],
            [
             0.3,
             "#f1b6da"
            ],
            [
             0.4,
             "#fde0ef"
            ],
            [
             0.5,
             "#f7f7f7"
            ],
            [
             0.6,
             "#e6f5d0"
            ],
            [
             0.7,
             "#b8e186"
            ],
            [
             0.8,
             "#7fbc41"
            ],
            [
             0.9,
             "#4d9221"
            ],
            [
             1,
             "#276419"
            ]
           ],
           "sequential": [
            [
             0,
             "#0d0887"
            ],
            [
             0.1111111111111111,
             "#46039f"
            ],
            [
             0.2222222222222222,
             "#7201a8"
            ],
            [
             0.3333333333333333,
             "#9c179e"
            ],
            [
             0.4444444444444444,
             "#bd3786"
            ],
            [
             0.5555555555555556,
             "#d8576b"
            ],
            [
             0.6666666666666666,
             "#ed7953"
            ],
            [
             0.7777777777777778,
             "#fb9f3a"
            ],
            [
             0.8888888888888888,
             "#fdca26"
            ],
            [
             1,
             "#f0f921"
            ]
           ],
           "sequentialminus": [
            [
             0,
             "#0d0887"
            ],
            [
             0.1111111111111111,
             "#46039f"
            ],
            [
             0.2222222222222222,
             "#7201a8"
            ],
            [
             0.3333333333333333,
             "#9c179e"
            ],
            [
             0.4444444444444444,
             "#bd3786"
            ],
            [
             0.5555555555555556,
             "#d8576b"
            ],
            [
             0.6666666666666666,
             "#ed7953"
            ],
            [
             0.7777777777777778,
             "#fb9f3a"
            ],
            [
             0.8888888888888888,
             "#fdca26"
            ],
            [
             1,
             "#f0f921"
            ]
           ]
          },
          "colorway": [
           "#636efa",
           "#EF553B",
           "#00cc96",
           "#ab63fa",
           "#FFA15A",
           "#19d3f3",
           "#FF6692",
           "#B6E880",
           "#FF97FF",
           "#FECB52"
          ],
          "font": {
           "color": "#2a3f5f"
          },
          "geo": {
           "bgcolor": "white",
           "lakecolor": "white",
           "landcolor": "#E5ECF6",
           "showlakes": true,
           "showland": true,
           "subunitcolor": "white"
          },
          "hoverlabel": {
           "align": "left"
          },
          "hovermode": "closest",
          "mapbox": {
           "style": "light"
          },
          "paper_bgcolor": "white",
          "plot_bgcolor": "#E5ECF6",
          "polar": {
           "angularaxis": {
            "gridcolor": "white",
            "linecolor": "white",
            "ticks": ""
           },
           "bgcolor": "#E5ECF6",
           "radialaxis": {
            "gridcolor": "white",
            "linecolor": "white",
            "ticks": ""
           }
          },
          "scene": {
           "xaxis": {
            "backgroundcolor": "#E5ECF6",
            "gridcolor": "white",
            "gridwidth": 2,
            "linecolor": "white",
            "showbackground": true,
            "ticks": "",
            "zerolinecolor": "white"
           },
           "yaxis": {
            "backgroundcolor": "#E5ECF6",
            "gridcolor": "white",
            "gridwidth": 2,
            "linecolor": "white",
            "showbackground": true,
            "ticks": "",
            "zerolinecolor": "white"
           },
           "zaxis": {
            "backgroundcolor": "#E5ECF6",
            "gridcolor": "white",
            "gridwidth": 2,
            "linecolor": "white",
            "showbackground": true,
            "ticks": "",
            "zerolinecolor": "white"
           }
          },
          "shapedefaults": {
           "line": {
            "color": "#2a3f5f"
           }
          },
          "ternary": {
           "aaxis": {
            "gridcolor": "white",
            "linecolor": "white",
            "ticks": ""
           },
           "baxis": {
            "gridcolor": "white",
            "linecolor": "white",
            "ticks": ""
           },
           "bgcolor": "#E5ECF6",
           "caxis": {
            "gridcolor": "white",
            "linecolor": "white",
            "ticks": ""
           }
          },
          "title": {
           "x": 0.05
          },
          "xaxis": {
           "automargin": true,
           "gridcolor": "white",
           "linecolor": "white",
           "ticks": "",
           "title": {
            "standoff": 15
           },
           "zerolinecolor": "white",
           "zerolinewidth": 2
          },
          "yaxis": {
           "automargin": true,
           "gridcolor": "white",
           "linecolor": "white",
           "ticks": "",
           "title": {
            "standoff": 15
           },
           "zerolinecolor": "white",
           "zerolinewidth": 2
          }
         }
        },
        "title": {
         "text": "CTR vs ROAS for Campaigns"
        },
        "xaxis": {
         "anchor": "y",
         "domain": [
          0,
          1
         ],
         "title": {
          "text": "Click-Through Rate"
         }
        },
        "yaxis": {
         "anchor": "x",
         "domain": [
          0,
          1
         ],
         "title": {
          "text": "Return on Ad Spend"
         }
        }
       }
      }
     },
     "metadata": {},
     "output_type": "display_data"
    }
   ],
   "source": [
    "visualize_ctr_vs_roas(data)\n"
   ]
  },
  {
   "cell_type": "code",
   "execution_count": 38,
   "metadata": {},
   "outputs": [],
   "source": [
    "data.to_csv(\"new_csv.csv\", index=False)"
   ]
  },
  {
   "cell_type": "code",
   "execution_count": 36,
   "metadata": {},
   "outputs": [
    {
     "name": "stdout",
     "output_type": "stream",
     "text": [
      "Requirement already satisfied: streamlit in c:\\users\\aggar\\anaconda3\\lib\\site-packages (1.40.2)\n",
      "Requirement already satisfied: cachetools<6,>=4.0 in c:\\users\\aggar\\anaconda3\\lib\\site-packages (from streamlit) (5.3.1)\n",
      "Requirement already satisfied: gitpython!=3.1.19,<4,>=3.0.7 in c:\\users\\aggar\\anaconda3\\lib\\site-packages (from streamlit) (3.1.43)\n",
      "Requirement already satisfied: pillow<12,>=7.1.0 in c:\\users\\aggar\\anaconda3\\lib\\site-packages (from streamlit) (10.3.0)\n",
      "Requirement already satisfied: requests<3,>=2.27 in c:\\users\\aggar\\anaconda3\\lib\\site-packages (from streamlit) (2.31.0)\n",
      "Requirement already satisfied: protobuf<6,>=3.20 in c:\\users\\aggar\\anaconda3\\lib\\site-packages (from streamlit) (5.29.0)\n",
      "Requirement already satisfied: altair<6,>=4.0 in c:\\users\\aggar\\anaconda3\\lib\\site-packages (from streamlit) (5.5.0)\n",
      "Requirement already satisfied: typing-extensions<5,>=4.3.0 in c:\\users\\aggar\\anaconda3\\lib\\site-packages (from streamlit) (4.11.0)\n",
      "Requirement already satisfied: watchdog<7,>=2.1.5 in c:\\users\\aggar\\anaconda3\\lib\\site-packages (from streamlit) (2.1.6)\n",
      "Requirement already satisfied: blinker<2,>=1.0.0 in c:\\users\\aggar\\anaconda3\\lib\\site-packages (from streamlit) (1.9.0)\n",
      "Requirement already satisfied: pyarrow>=7.0 in c:\\users\\aggar\\anaconda3\\lib\\site-packages (from streamlit) (18.1.0)\n",
      "Requirement already satisfied: click<9,>=7.0 in c:\\users\\aggar\\anaconda3\\lib\\site-packages (from streamlit) (8.0.4)\n",
      "Requirement already satisfied: tornado<7,>=6.0.3 in c:\\users\\aggar\\anaconda3\\lib\\site-packages (from streamlit) (6.1)\n",
      "Requirement already satisfied: toml<2,>=0.10.1 in c:\\users\\aggar\\anaconda3\\lib\\site-packages (from streamlit) (0.10.2)\n",
      "Requirement already satisfied: tenacity<10,>=8.1.0 in c:\\users\\aggar\\anaconda3\\lib\\site-packages (from streamlit) (8.2.3)\n",
      "Requirement already satisfied: pandas<3,>=1.4.0 in c:\\users\\aggar\\anaconda3\\lib\\site-packages (from streamlit) (1.5.3)\n",
      "Requirement already satisfied: pydeck<1,>=0.8.0b4 in c:\\users\\aggar\\anaconda3\\lib\\site-packages (from streamlit) (0.9.1)\n",
      "Requirement already satisfied: numpy<3,>=1.23 in c:\\users\\aggar\\anaconda3\\lib\\site-packages (from streamlit) (1.26.4)\n",
      "Requirement already satisfied: rich<14,>=10.14.0 in c:\\users\\aggar\\anaconda3\\lib\\site-packages (from streamlit) (13.9.4)\n",
      "Requirement already satisfied: packaging<25,>=20 in c:\\users\\aggar\\anaconda3\\lib\\site-packages (from streamlit) (24.1)\n",
      "Requirement already satisfied: narwhals>=1.14.2 in c:\\users\\aggar\\anaconda3\\lib\\site-packages (from altair<6,>=4.0->streamlit) (1.15.2)\n",
      "Requirement already satisfied: jinja2 in c:\\users\\aggar\\anaconda3\\lib\\site-packages (from altair<6,>=4.0->streamlit) (3.1.4)\n",
      "Requirement already satisfied: jsonschema>=3.0 in c:\\users\\aggar\\anaconda3\\lib\\site-packages (from altair<6,>=4.0->streamlit) (4.17.3)\n",
      "Requirement already satisfied: colorama in c:\\users\\aggar\\anaconda3\\lib\\site-packages (from click<9,>=7.0->streamlit) (0.4.6)\n",
      "Requirement already satisfied: gitdb<5,>=4.0.1 in c:\\users\\aggar\\anaconda3\\lib\\site-packages (from gitpython!=3.1.19,<4,>=3.0.7->streamlit) (4.0.11)\n",
      "Requirement already satisfied: python-dateutil>=2.8.1 in c:\\users\\aggar\\anaconda3\\lib\\site-packages (from pandas<3,>=1.4.0->streamlit) (2.8.2)\n",
      "Requirement already satisfied: pytz>=2020.1 in c:\\users\\aggar\\anaconda3\\lib\\site-packages (from pandas<3,>=1.4.0->streamlit) (2022.7)\n",
      "Requirement already satisfied: charset-normalizer<4,>=2 in c:\\users\\aggar\\anaconda3\\lib\\site-packages (from requests<3,>=2.27->streamlit) (2.0.4)\n",
      "Requirement already satisfied: certifi>=2017.4.17 in c:\\users\\aggar\\anaconda3\\lib\\site-packages (from requests<3,>=2.27->streamlit) (2022.12.7)\n",
      "Requirement already satisfied: urllib3<3,>=1.21.1 in c:\\users\\aggar\\anaconda3\\lib\\site-packages (from requests<3,>=2.27->streamlit) (1.26.14)\n",
      "Requirement already satisfied: idna<4,>=2.5 in c:\\users\\aggar\\anaconda3\\lib\\site-packages (from requests<3,>=2.27->streamlit) (3.4)\n",
      "Requirement already satisfied: markdown-it-py>=2.2.0 in c:\\users\\aggar\\anaconda3\\lib\\site-packages (from rich<14,>=10.14.0->streamlit) (3.0.0)\n",
      "Requirement already satisfied: pygments<3.0.0,>=2.13.0 in c:\\users\\aggar\\anaconda3\\lib\\site-packages (from rich<14,>=10.14.0->streamlit) (2.18.0)\n",
      "Requirement already satisfied: smmap<6,>=3.0.1 in c:\\users\\aggar\\anaconda3\\lib\\site-packages (from gitdb<5,>=4.0.1->gitpython!=3.1.19,<4,>=3.0.7->streamlit) (5.0.1)\n",
      "Requirement already satisfied: MarkupSafe>=2.0 in c:\\users\\aggar\\anaconda3\\lib\\site-packages (from jinja2->altair<6,>=4.0->streamlit) (2.1.5)\n",
      "Requirement already satisfied: pyrsistent!=0.17.0,!=0.17.1,!=0.17.2,>=0.14.0 in c:\\users\\aggar\\anaconda3\\lib\\site-packages (from jsonschema>=3.0->altair<6,>=4.0->streamlit) (0.18.0)\n",
      "Requirement already satisfied: attrs>=17.4.0 in c:\\users\\aggar\\anaconda3\\lib\\site-packages (from jsonschema>=3.0->altair<6,>=4.0->streamlit) (23.2.0)\n",
      "Requirement already satisfied: mdurl~=0.1 in c:\\users\\aggar\\anaconda3\\lib\\site-packages (from markdown-it-py>=2.2.0->rich<14,>=10.14.0->streamlit) (0.1.2)\n",
      "Requirement already satisfied: six>=1.5 in c:\\users\\aggar\\anaconda3\\lib\\site-packages (from python-dateutil>=2.8.1->pandas<3,>=1.4.0->streamlit) (1.16.0)\n"
     ]
    },
    {
     "name": "stderr",
     "output_type": "stream",
     "text": [
      "WARNING: Ignoring invalid distribution -rotobuf (c:\\users\\aggar\\anaconda3\\lib\\site-packages)\n",
      "WARNING: Ignoring invalid distribution -rotobuf (c:\\users\\aggar\\anaconda3\\lib\\site-packages)\n",
      "WARNING: Ignoring invalid distribution -rotobuf (c:\\users\\aggar\\anaconda3\\lib\\site-packages)\n",
      "WARNING: Ignoring invalid distribution -rotobuf (c:\\users\\aggar\\anaconda3\\lib\\site-packages)\n",
      "WARNING: Ignoring invalid distribution -rotobuf (c:\\users\\aggar\\anaconda3\\lib\\site-packages)\n",
      "WARNING: Ignoring invalid distribution -rotobuf (c:\\users\\aggar\\anaconda3\\lib\\site-packages)\n"
     ]
    },
    {
     "name": "stdout",
     "output_type": "stream",
     "text": [
      "Requirement already satisfied: jupyter-dash in c:\\users\\aggar\\anaconda3\\lib\\site-packages (0.4.2)\n",
      "Requirement already satisfied: nest-asyncio in c:\\users\\aggar\\anaconda3\\lib\\site-packages (from jupyter-dash) (1.5.6)\n",
      "Requirement already satisfied: flask in c:\\users\\aggar\\anaconda3\\lib\\site-packages (from jupyter-dash) (2.2.2)\n",
      "Requirement already satisfied: ipykernel in c:\\users\\aggar\\anaconda3\\lib\\site-packages (from jupyter-dash) (6.19.2)\n",
      "Requirement already satisfied: ipython in c:\\users\\aggar\\anaconda3\\lib\\site-packages (from jupyter-dash) (8.10.0)\n",
      "Requirement already satisfied: requests in c:\\users\\aggar\\anaconda3\\lib\\site-packages (from jupyter-dash) (2.31.0)\n",
      "Requirement already satisfied: retrying in c:\\users\\aggar\\anaconda3\\lib\\site-packages (from jupyter-dash) (1.3.4)\n",
      "Requirement already satisfied: ansi2html in c:\\users\\aggar\\anaconda3\\lib\\site-packages (from jupyter-dash) (1.9.2)\n",
      "Requirement already satisfied: dash in c:\\users\\aggar\\anaconda3\\lib\\site-packages (from jupyter-dash) (2.18.2)\n",
      "Requirement already satisfied: dash-core-components==2.0.0 in c:\\users\\aggar\\anaconda3\\lib\\site-packages (from dash->jupyter-dash) (2.0.0)\n",
      "Requirement already satisfied: setuptools in c:\\users\\aggar\\anaconda3\\lib\\site-packages (from dash->jupyter-dash) (65.6.3)\n",
      "Requirement already satisfied: dash-table==5.0.0 in c:\\users\\aggar\\anaconda3\\lib\\site-packages (from dash->jupyter-dash) (5.0.0)\n",
      "Requirement already satisfied: typing-extensions>=4.1.1 in c:\\users\\aggar\\anaconda3\\lib\\site-packages (from dash->jupyter-dash) (4.11.0)\n",
      "Requirement already satisfied: dash-html-components==2.0.0 in c:\\users\\aggar\\anaconda3\\lib\\site-packages (from dash->jupyter-dash) (2.0.0)\n",
      "Requirement already satisfied: Werkzeug<3.1 in c:\\users\\aggar\\anaconda3\\lib\\site-packages (from dash->jupyter-dash) (2.2.2)\n",
      "Requirement already satisfied: plotly>=5.0.0 in c:\\users\\aggar\\anaconda3\\lib\\site-packages (from dash->jupyter-dash) (5.9.0)\n",
      "Requirement already satisfied: importlib-metadata in c:\\users\\aggar\\anaconda3\\lib\\site-packages (from dash->jupyter-dash) (4.11.3)\n",
      "Requirement already satisfied: itsdangerous>=2.0 in c:\\users\\aggar\\anaconda3\\lib\\site-packages (from flask->jupyter-dash) (2.0.1)\n",
      "Requirement already satisfied: click>=8.0 in c:\\users\\aggar\\anaconda3\\lib\\site-packages (from flask->jupyter-dash) (8.0.4)\n",
      "Requirement already satisfied: Jinja2>=3.0 in c:\\users\\aggar\\anaconda3\\lib\\site-packages (from flask->jupyter-dash) (3.1.4)\n",
      "Requirement already satisfied: comm>=0.1.1 in c:\\users\\aggar\\anaconda3\\lib\\site-packages (from ipykernel->jupyter-dash) (0.1.2)\n",
      "Requirement already satisfied: jupyter-client>=6.1.12 in c:\\users\\aggar\\anaconda3\\lib\\site-packages (from ipykernel->jupyter-dash) (7.3.4)\n",
      "Requirement already satisfied: tornado>=6.1 in c:\\users\\aggar\\anaconda3\\lib\\site-packages (from ipykernel->jupyter-dash) (6.1)\n",
      "Requirement already satisfied: traitlets>=5.4.0 in c:\\users\\aggar\\anaconda3\\lib\\site-packages (from ipykernel->jupyter-dash) (5.7.1)\n",
      "Requirement already satisfied: packaging in c:\\users\\aggar\\anaconda3\\lib\\site-packages (from ipykernel->jupyter-dash) (24.1)\n",
      "Requirement already satisfied: matplotlib-inline>=0.1 in c:\\users\\aggar\\anaconda3\\lib\\site-packages (from ipykernel->jupyter-dash) (0.1.6)\n",
      "Requirement already satisfied: pyzmq>=17 in c:\\users\\aggar\\anaconda3\\lib\\site-packages (from ipykernel->jupyter-dash) (23.2.0)\n",
      "Requirement already satisfied: psutil in c:\\users\\aggar\\anaconda3\\lib\\site-packages (from ipykernel->jupyter-dash) (5.9.0)\n",
      "Requirement already satisfied: debugpy>=1.0 in c:\\users\\aggar\\anaconda3\\lib\\site-packages (from ipykernel->jupyter-dash) (1.5.1)\n",
      "Requirement already satisfied: pygments>=2.4.0 in c:\\users\\aggar\\anaconda3\\lib\\site-packages (from ipython->jupyter-dash) (2.18.0)\n",
      "Requirement already satisfied: decorator in c:\\users\\aggar\\anaconda3\\lib\\site-packages (from ipython->jupyter-dash) (5.1.1)\n",
      "Requirement already satisfied: colorama in c:\\users\\aggar\\anaconda3\\lib\\site-packages (from ipython->jupyter-dash) (0.4.6)\n",
      "Requirement already satisfied: jedi>=0.16 in c:\\users\\aggar\\anaconda3\\lib\\site-packages (from ipython->jupyter-dash) (0.18.1)\n",
      "Requirement already satisfied: backcall in c:\\users\\aggar\\anaconda3\\lib\\site-packages (from ipython->jupyter-dash) (0.2.0)\n",
      "Requirement already satisfied: stack-data in c:\\users\\aggar\\anaconda3\\lib\\site-packages (from ipython->jupyter-dash) (0.2.0)\n",
      "Requirement already satisfied: prompt-toolkit<3.1.0,>=3.0.30 in c:\\users\\aggar\\anaconda3\\lib\\site-packages (from ipython->jupyter-dash) (3.0.36)\n",
      "Requirement already satisfied: pickleshare in c:\\users\\aggar\\anaconda3\\lib\\site-packages (from ipython->jupyter-dash) (0.7.5)\n",
      "Requirement already satisfied: charset-normalizer<4,>=2 in c:\\users\\aggar\\anaconda3\\lib\\site-packages (from requests->jupyter-dash) (2.0.4)\n",
      "Requirement already satisfied: certifi>=2017.4.17 in c:\\users\\aggar\\anaconda3\\lib\\site-packages (from requests->jupyter-dash) (2022.12.7)\n",
      "Requirement already satisfied: idna<4,>=2.5 in c:\\users\\aggar\\anaconda3\\lib\\site-packages (from requests->jupyter-dash) (3.4)\n",
      "Requirement already satisfied: urllib3<3,>=1.21.1 in c:\\users\\aggar\\anaconda3\\lib\\site-packages (from requests->jupyter-dash) (1.26.14)\n",
      "Requirement already satisfied: six>=1.7.0 in c:\\users\\aggar\\anaconda3\\lib\\site-packages (from retrying->jupyter-dash) (1.16.0)\n",
      "Requirement already satisfied: parso<0.9.0,>=0.8.0 in c:\\users\\aggar\\anaconda3\\lib\\site-packages (from jedi>=0.16->ipython->jupyter-dash) (0.8.3)\n",
      "Requirement already satisfied: MarkupSafe>=2.0 in c:\\users\\aggar\\anaconda3\\lib\\site-packages (from Jinja2>=3.0->flask->jupyter-dash) (2.1.5)\n",
      "Requirement already satisfied: python-dateutil>=2.8.2 in c:\\users\\aggar\\anaconda3\\lib\\site-packages (from jupyter-client>=6.1.12->ipykernel->jupyter-dash) (2.8.2)\n",
      "Requirement already satisfied: jupyter-core>=4.9.2 in c:\\users\\aggar\\anaconda3\\lib\\site-packages (from jupyter-client>=6.1.12->ipykernel->jupyter-dash) (5.2.0)\n",
      "Requirement already satisfied: entrypoints in c:\\users\\aggar\\anaconda3\\lib\\site-packages (from jupyter-client>=6.1.12->ipykernel->jupyter-dash) (0.4)\n",
      "Requirement already satisfied: tenacity>=6.2.0 in c:\\users\\aggar\\anaconda3\\lib\\site-packages (from plotly>=5.0.0->dash->jupyter-dash) (8.2.3)\n",
      "Requirement already satisfied: wcwidth in c:\\users\\aggar\\anaconda3\\lib\\site-packages (from prompt-toolkit<3.1.0,>=3.0.30->ipython->jupyter-dash) (0.2.5)\n",
      "Requirement already satisfied: zipp>=0.5 in c:\\users\\aggar\\anaconda3\\lib\\site-packages (from importlib-metadata->dash->jupyter-dash) (3.11.0)\n",
      "Requirement already satisfied: pure-eval in c:\\users\\aggar\\anaconda3\\lib\\site-packages (from stack-data->ipython->jupyter-dash) (0.2.2)\n",
      "Requirement already satisfied: executing in c:\\users\\aggar\\anaconda3\\lib\\site-packages (from stack-data->ipython->jupyter-dash) (0.8.3)\n",
      "Requirement already satisfied: asttokens in c:\\users\\aggar\\anaconda3\\lib\\site-packages (from stack-data->ipython->jupyter-dash) (2.0.5)\n",
      "Requirement already satisfied: pywin32>=1.0 in c:\\users\\aggar\\anaconda3\\lib\\site-packages (from jupyter-core>=4.9.2->jupyter-client>=6.1.12->ipykernel->jupyter-dash) (305.1)\n",
      "Requirement already satisfied: platformdirs>=2.5 in c:\\users\\aggar\\anaconda3\\lib\\site-packages (from jupyter-core>=4.9.2->jupyter-client>=6.1.12->ipykernel->jupyter-dash) (2.5.2)\n"
     ]
    },
    {
     "name": "stderr",
     "output_type": "stream",
     "text": [
      "WARNING: Ignoring invalid distribution -rotobuf (c:\\users\\aggar\\anaconda3\\lib\\site-packages)\n",
      "WARNING: Ignoring invalid distribution -rotobuf (c:\\users\\aggar\\anaconda3\\lib\\site-packages)\n",
      "WARNING: Ignoring invalid distribution -rotobuf (c:\\users\\aggar\\anaconda3\\lib\\site-packages)\n",
      "WARNING: Ignoring invalid distribution -rotobuf (c:\\users\\aggar\\anaconda3\\lib\\site-packages)\n",
      "WARNING: Ignoring invalid distribution -rotobuf (c:\\users\\aggar\\anaconda3\\lib\\site-packages)\n",
      "WARNING: Ignoring invalid distribution -rotobuf (c:\\users\\aggar\\anaconda3\\lib\\site-packages)\n"
     ]
    }
   ],
   "source": [
    "\n",
    "!pip install streamlit\n",
    "!pip install jupyter-dash"
   ]
  },
  {
   "cell_type": "code",
   "execution_count": 37,
   "metadata": {},
   "outputs": [
    {
     "ename": "TypeError",
     "evalue": "'NoneType' object cannot be interpreted as an integer",
     "output_type": "error",
     "traceback": [
      "\u001b[1;31m---------------------------------------------------------------------------\u001b[0m",
      "\u001b[1;31mTypeError\u001b[0m                                 Traceback (most recent call last)",
      "Cell \u001b[1;32mIn[37], line 119\u001b[0m\n\u001b[0;32m    116\u001b[0m     \u001b[38;5;28;01mreturn\u001b[39;00m data_table, ctr_fig, roas_fig, spend_fig\n\u001b[0;32m    118\u001b[0m \u001b[38;5;66;03m# Run the app in the notebook\u001b[39;00m\n\u001b[1;32m--> 119\u001b[0m \u001b[43mapp\u001b[49m\u001b[38;5;241;43m.\u001b[39;49m\u001b[43mrun_server\u001b[49m\u001b[43m(\u001b[49m\u001b[43mmode\u001b[49m\u001b[38;5;241;43m=\u001b[39;49m\u001b[38;5;124;43m\"\u001b[39;49m\u001b[38;5;124;43mexternal\u001b[39;49m\u001b[38;5;124;43m\"\u001b[39;49m\u001b[43m,\u001b[49m\u001b[43m \u001b[49m\u001b[43mport\u001b[49m\u001b[38;5;241;43m=\u001b[39;49m\u001b[38;5;241;43m8050\u001b[39;49m\u001b[43m)\u001b[49m\n",
      "File \u001b[1;32mc:\\Users\\aggar\\anaconda3\\lib\\site-packages\\jupyter_dash\\jupyter_app.py:222\u001b[0m, in \u001b[0;36mJupyterDash.run_server\u001b[1;34m(self, mode, width, height, inline_exceptions, **kwargs)\u001b[0m\n\u001b[0;32m    220\u001b[0m old_server \u001b[38;5;241m=\u001b[39m \u001b[38;5;28mself\u001b[39m\u001b[38;5;241m.\u001b[39m_server_threads\u001b[38;5;241m.\u001b[39mget((host, port))\n\u001b[0;32m    221\u001b[0m \u001b[38;5;28;01mif\u001b[39;00m old_server:\n\u001b[1;32m--> 222\u001b[0m     \u001b[43mold_server\u001b[49m\u001b[38;5;241;43m.\u001b[39;49m\u001b[43mkill\u001b[49m\u001b[43m(\u001b[49m\u001b[43m)\u001b[49m\n\u001b[0;32m    223\u001b[0m     old_server\u001b[38;5;241m.\u001b[39mjoin()\n\u001b[0;32m    224\u001b[0m     \u001b[38;5;28;01mdel\u001b[39;00m \u001b[38;5;28mself\u001b[39m\u001b[38;5;241m.\u001b[39m_server_threads[(host, port)]\n",
      "File \u001b[1;32mc:\\Users\\aggar\\anaconda3\\lib\\site-packages\\jupyter_dash\\_stoppable_thread.py:16\u001b[0m, in \u001b[0;36mStoppableThread.kill\u001b[1;34m(self)\u001b[0m\n\u001b[0;32m     13\u001b[0m \u001b[38;5;28;01mdef\u001b[39;00m \u001b[38;5;21mkill\u001b[39m(\u001b[38;5;28mself\u001b[39m):\n\u001b[0;32m     14\u001b[0m     thread_id \u001b[38;5;241m=\u001b[39m \u001b[38;5;28mself\u001b[39m\u001b[38;5;241m.\u001b[39mget_id()\n\u001b[0;32m     15\u001b[0m     res \u001b[38;5;241m=\u001b[39m ctypes\u001b[38;5;241m.\u001b[39mpythonapi\u001b[38;5;241m.\u001b[39mPyThreadState_SetAsyncExc(\n\u001b[1;32m---> 16\u001b[0m         \u001b[43mctypes\u001b[49m\u001b[38;5;241;43m.\u001b[39;49m\u001b[43mc_long\u001b[49m\u001b[43m(\u001b[49m\u001b[43mthread_id\u001b[49m\u001b[43m)\u001b[49m, ctypes\u001b[38;5;241m.\u001b[39mpy_object(\u001b[38;5;167;01mSystemExit\u001b[39;00m)\n\u001b[0;32m     17\u001b[0m     )\n\u001b[0;32m     18\u001b[0m     \u001b[38;5;28;01mif\u001b[39;00m res \u001b[38;5;241m==\u001b[39m \u001b[38;5;241m0\u001b[39m:\n\u001b[0;32m     19\u001b[0m         \u001b[38;5;28;01mraise\u001b[39;00m \u001b[38;5;167;01mValueError\u001b[39;00m(\u001b[38;5;124mf\u001b[39m\u001b[38;5;124m\"\u001b[39m\u001b[38;5;124mInvalid thread id: \u001b[39m\u001b[38;5;132;01m{\u001b[39;00mthread_id\u001b[38;5;132;01m}\u001b[39;00m\u001b[38;5;124m\"\u001b[39m)\n",
      "\u001b[1;31mTypeError\u001b[0m: 'NoneType' object cannot be interpreted as an integer"
     ]
    }
   ],
   "source": [
    "import pandas as pd\n",
    "import plotly.express as px\n",
    "from jupyter_dash import JupyterDash\n",
    "from dash import dcc, html\n",
    "from dash.dependencies import Input, Output\n",
    "import warnings\n",
    "\n",
    "# Suppress warnings\n",
    "warnings.filterwarnings(\"ignore\")\n",
    "\n",
    "# Initialize the JupyterDash app\n",
    "app = JupyterDash(__name__)\n",
    "\n",
    "# App layout\n",
    "app.layout = html.Div([\n",
    "    html.H1(\"Campaign Performance Dashboard\", style={\"textAlign\": \"center\", \"color\": \"#333\"}),\n",
    "    html.Div([\n",
    "        html.Div([\n",
    "            html.Label(\"Select Campaign(s):\", style={\"fontWeight\": \"bold\"}),\n",
    "            dcc.Dropdown(\n",
    "                id=\"campaign-filter\",\n",
    "                options=[{\"label\": campaign, \"value\": campaign} for campaign in data[\"Campaign ID\"].unique()],\n",
    "                value=data[\"Campaign ID\"].unique(),\n",
    "                multi=True\n",
    "            )\n",
    "        ], style={\"width\": \"45%\", \"display\": \"inline-block\"}),\n",
    "\n",
    "        html.Div([\n",
    "            html.Label(\"Select Status:\", style={\"fontWeight\": \"bold\"}),\n",
    "            dcc.Dropdown(\n",
    "                id=\"status-filter\",\n",
    "                options=[{\"label\": status, \"value\": status} for status in data[\"Status\"].unique()],\n",
    "                value=data[\"Status\"].unique(),\n",
    "                multi=True\n",
    "            )\n",
    "        ], style={\"width\": \"45%\", \"display\": \"inline-block\", \"marginLeft\": \"10px\"})\n",
    "    ]),\n",
    "\n",
    "    html.Div(id=\"filtered-data-table\", style={\"marginTop\": \"20px\"}),\n",
    "\n",
    "    html.H2(\"Click-Through Rate (CTR) by Campaign\", style={\"textAlign\": \"center\", \"color\": \"#444\"}),\n",
    "    dcc.Graph(id=\"ctr-graph\"),\n",
    "\n",
    "    html.H2(\"Return on Ad Spend (ROAS) by Campaign\", style={\"textAlign\": \"center\", \"color\": \"#444\"}),\n",
    "    dcc.Graph(id=\"roas-graph\"),\n",
    "\n",
    "    html.H2(\"Spend and Revenue Trends\", style={\"textAlign\": \"center\", \"color\": \"#444\"}),\n",
    "    dcc.Graph(id=\"spend-trends-graph\")\n",
    "])\n",
    "\n",
    "# Callbacks for interactivity\n",
    "@app.callback(\n",
    "    [\n",
    "        Output(\"filtered-data-table\", \"children\"),\n",
    "        Output(\"ctr-graph\", \"figure\"),\n",
    "        Output(\"roas-graph\", \"figure\"),\n",
    "        Output(\"spend-trends-graph\", \"figure\")\n",
    "    ],\n",
    "    [\n",
    "        Input(\"campaign-filter\", \"value\"),\n",
    "        Input(\"status-filter\", \"value\")\n",
    "    ]\n",
    ")\n",
    "def update_dashboard(selected_campaigns, selected_status):\n",
    "    # Filter data\n",
    "    filtered_data = data[\n",
    "        (data[\"Campaign ID\"].isin(selected_campaigns)) &\n",
    "        (data[\"Status\"].isin(selected_status))\n",
    "    ]\n",
    "\n",
    "    # Data table\n",
    "    data_table = html.Div([\n",
    "        html.H4(\"Filtered Campaign Data\", style={\"color\": \"#333\"}),\n",
    "        html.Table([\n",
    "            html.Thead(html.Tr([html.Th(col, style={\"border\": \"1px solid #ddd\", \"padding\": \"8px\"}) for col in filtered_data.columns])),\n",
    "            html.Tbody([\n",
    "                html.Tr([html.Td(row[col], style={\"border\": \"1px solid #ddd\", \"padding\": \"8px\"}) for col in filtered_data.columns])\n",
    "                for _, row in filtered_data.iterrows()\n",
    "            ])\n",
    "        ], style={\"width\": \"100%\", \"borderCollapse\": \"collapse\", \"color\": \"#444\"})\n",
    "    ])\n",
    "\n",
    "    # CTR graph\n",
    "    ctr_fig = px.bar(\n",
    "        filtered_data,\n",
    "        x=\"Campaign ID\",\n",
    "        y=\"CTR\",\n",
    "        color=\"Status\",\n",
    "        title=\"CTR by Campaign\",\n",
    "        labels={\"CTR\": \"Click-Through Rate (%)\"},\n",
    "        color_discrete_sequence=px.colors.qualitative.Set1\n",
    "    )\n",
    "\n",
    "    # ROAS graph\n",
    "    roas_fig = px.bar(\n",
    "        filtered_data,\n",
    "        x=\"Campaign ID\",\n",
    "        y=\"ROAS\",\n",
    "        color=\"Status\",\n",
    "        title=\"ROAS by Campaign\",\n",
    "        labels={\"ROAS\": \"Return on Ad Spend\"},\n",
    "        color_discrete_sequence=px.colors.qualitative.Set2\n",
    "    )\n",
    "\n",
    "    # Spend vs Revenue trends\n",
    "    spend_fig = px.line(\n",
    "        filtered_data,\n",
    "        x=\"Campaign ID\",\n",
    "        y=[\"Spend\", \"Revenue\"],\n",
    "        title=\"Spend vs Revenue\",\n",
    "        labels={\"value\": \"Amount\", \"variable\": \"Metric\"},\n",
    "        markers=True,\n",
    "        color_discrete_sequence=px.colors.qualitative.Plotly\n",
    "    )\n",
    "\n",
    "    return data_table, ctr_fig, roas_fig, spend_fig\n",
    "\n",
    "# Run the app in the notebook\n",
    "app.run_server(mode=\"external\", port=8050)\n"
   ]
  },
  {
   "cell_type": "code",
   "execution_count": null,
   "metadata": {},
   "outputs": [],
   "source": []
  }
 ],
 "metadata": {
  "kernelspec": {
   "display_name": "base",
   "language": "python",
   "name": "python3"
  },
  "language_info": {
   "codemirror_mode": {
    "name": "ipython",
    "version": 3
   },
   "file_extension": ".py",
   "mimetype": "text/x-python",
   "name": "python",
   "nbconvert_exporter": "python",
   "pygments_lexer": "ipython3",
   "version": "3.10.9"
  }
 },
 "nbformat": 4,
 "nbformat_minor": 2
}
